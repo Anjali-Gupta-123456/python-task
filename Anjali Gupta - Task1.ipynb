{
 "cells": [
  {
   "cell_type": "markdown",
   "id": "e3750add-68d0-4794-9cf2-7fe430382c26",
   "metadata": {},
   "source": [
    "# lower\n",
    "*string.lower()” is the syntax of the lower string function."
   ]
  },
  {
   "cell_type": "code",
   "execution_count": 32,
   "id": "daff428c-71f1-4635-91f1-6a759970085f",
   "metadata": {},
   "outputs": [
    {
     "name": "stdout",
     "output_type": "stream",
     "text": [
      "hello\n"
     ]
    }
   ],
   "source": [
    "text1 = \"HELLO\"\n",
    "print(text1.lower())"
   ]
  },
  {
   "cell_type": "code",
   "execution_count": 38,
   "id": "f4ea2bdc-de95-4140-9fd5-2ccaeb297380",
   "metadata": {},
   "outputs": [
    {
     "name": "stdout",
     "output_type": "stream",
     "text": [
      "python programming\n"
     ]
    }
   ],
   "source": [
    "text2 = \"PYTHON PROGRAMMING\"\n",
    "print(text2.lower())\n"
   ]
  },
  {
   "cell_type": "markdown",
   "id": "99c4bf01-5bf0-4411-aaf8-dbf3993715f4",
   "metadata": {},
   "source": [
    "# Upper\n",
    "*string.upper()” is the syntax of the upper string function."
   ]
  },
  {
   "cell_type": "code",
   "execution_count": 43,
   "id": "df0386f8-76e7-4a72-87f0-9c2e597dd3c1",
   "metadata": {},
   "outputs": [
    {
     "name": "stdout",
     "output_type": "stream",
     "text": [
      "HELLO\n"
     ]
    }
   ],
   "source": [
    "text1 = \"hello\"\n",
    "print(text1.upper())  "
   ]
  },
  {
   "cell_type": "code",
   "execution_count": 41,
   "id": "443f166f-dc09-4b56-b301-bb5b200a2f10",
   "metadata": {},
   "outputs": [
    {
     "name": "stdout",
     "output_type": "stream",
     "text": [
      "PYTHON PROGRAMMING\n"
     ]
    }
   ],
   "source": [
    "text2 = \"Python Programming\"\n",
    "print(text2.upper())\n"
   ]
  },
  {
   "cell_type": "markdown",
   "id": "b47a462d-e6c3-44ec-84e7-7941c213fbc2",
   "metadata": {},
   "source": [
    "# count\n",
    "*The count() function is used to count the number of occurrences of a substring in a given string. "
   ]
  },
  {
   "cell_type": "code",
   "execution_count": 46,
   "id": "06c44888-ca00-40bf-912a-d668629931db",
   "metadata": {},
   "outputs": [
    {
     "name": "stdout",
     "output_type": "stream",
     "text": [
      "2\n"
     ]
    }
   ],
   "source": [
    "text1 = \"hello world\"\n",
    "print(text1.count('o'))  "
   ]
  },
  {
   "cell_type": "code",
   "execution_count": 54,
   "id": "d92e2bc9-1ce7-496e-a30f-edc7aaffbdd3",
   "metadata": {},
   "outputs": [
    {
     "name": "stdout",
     "output_type": "stream",
     "text": [
      "4\n"
     ]
    }
   ],
   "source": [
    "text2 = \"this is DA7 class\"\n",
    "print(text2.count('s'))"
   ]
  },
  {
   "cell_type": "markdown",
   "id": "5637d0cb-32a8-45ad-b09c-dc690154a55c",
   "metadata": {},
   "source": [
    "# endswith\n",
    "*The endswith() function returns “True” when the string ends with the given substring, otherwise it returns ‘False.’"
   ]
  },
  {
   "cell_type": "code",
   "execution_count": 57,
   "id": "4a1b94f2-e856-4fca-affd-5a7f0dd1a9bb",
   "metadata": {},
   "outputs": [
    {
     "name": "stdout",
     "output_type": "stream",
     "text": [
      "True\n"
     ]
    }
   ],
   "source": [
    "text1 = \"hello world\"\n",
    "print(text1.endswith('world'))\n"
   ]
  },
  {
   "cell_type": "code",
   "execution_count": 61,
   "id": "e6a82426-6cf9-4c54-99c0-d07bc30f9497",
   "metadata": {},
   "outputs": [
    {
     "name": "stdout",
     "output_type": "stream",
     "text": [
      "False\n"
     ]
    }
   ],
   "source": [
    "text2 = \"python.py\"\n",
    "print(text2.endswith('python'))\n",
    "\n"
   ]
  },
  {
   "cell_type": "markdown",
   "id": "773b4338-26d8-453d-9a8d-0f3874cd0240",
   "metadata": {},
   "source": [
    "# find\n",
    "* The find() function is used to find the index of a given substring in a string. \n",
    "\n"
   ]
  },
  {
   "cell_type": "code",
   "execution_count": 64,
   "id": "a238dea4-780a-4544-8e20-2a08ec5016a6",
   "metadata": {},
   "outputs": [
    {
     "name": "stdout",
     "output_type": "stream",
     "text": [
      "6\n"
     ]
    }
   ],
   "source": [
    "text1 = \"hello world\"\n",
    "print(text1.find('world'))"
   ]
  },
  {
   "cell_type": "code",
   "execution_count": 70,
   "id": "3a14588e-44b9-4c13-8826-21b6bbfdefb1",
   "metadata": {},
   "outputs": [
    {
     "name": "stdout",
     "output_type": "stream",
     "text": [
      "7\n"
     ]
    }
   ],
   "source": [
    "text2 = \"Python Programming\"\n",
    "print(text2.find('Pro'))"
   ]
  },
  {
   "cell_type": "markdown",
   "id": "e65a3b48-471e-4e8b-8869-ca0d0cf1edd9",
   "metadata": {},
   "source": [
    "# isalnum\n",
    "*The isalnum() function returns ‘True’ when all characters in a given string are alphanumeric, otherwise it returns ‘False.’ "
   ]
  },
  {
   "cell_type": "code",
   "execution_count": 73,
   "id": "03f77576-33eb-4fd3-8ac3-862e702972e4",
   "metadata": {},
   "outputs": [
    {
     "name": "stdout",
     "output_type": "stream",
     "text": [
      "True\n"
     ]
    }
   ],
   "source": [
    "text1 = \"hello123\"\n",
    "print(text1.isalnum()) "
   ]
  },
  {
   "cell_type": "code",
   "execution_count": 75,
   "id": "76100683-c650-477b-bc68-b0220de2c69d",
   "metadata": {},
   "outputs": [
    {
     "name": "stdout",
     "output_type": "stream",
     "text": [
      "False\n"
     ]
    }
   ],
   "source": [
    "text2 = \"hello world\"\n",
    "print(text2.isalnum())"
   ]
  },
  {
   "cell_type": "markdown",
   "id": "9d02a17f-4aca-472d-844f-735794e015c5",
   "metadata": {},
   "source": [
    "# isalpha\n",
    "*The isalpha() function returns ‘True’ when all characters in a given string are alphabets, otherwise it returns ‘False.’ "
   ]
  },
  {
   "cell_type": "code",
   "execution_count": 78,
   "id": "866ded7e-6d4a-481d-bc44-96a1f9e43d5e",
   "metadata": {},
   "outputs": [
    {
     "name": "stdout",
     "output_type": "stream",
     "text": [
      "True\n"
     ]
    }
   ],
   "source": [
    "text1 = \"hello\"\n",
    "print(text1.isalpha())  \n"
   ]
  },
  {
   "cell_type": "code",
   "execution_count": 80,
   "id": "d51dc5f3-d314-4697-a4e8-a673a818faa7",
   "metadata": {},
   "outputs": [
    {
     "name": "stdout",
     "output_type": "stream",
     "text": [
      "False\n"
     ]
    }
   ],
   "source": [
    "text2 = \"hello123\"\n",
    "print(text2.isalpha())"
   ]
  },
  {
   "cell_type": "markdown",
   "id": "8fefdf5c-d94f-401b-b2c1-38772dfa6366",
   "metadata": {},
   "source": [
    "# isdigit\n",
    "*The isdigit() function returns ‘True’ when all characters in a given string are digits, otherwise it returns ‘False.’ \t"
   ]
  },
  {
   "cell_type": "code",
   "execution_count": 85,
   "id": "3ab46f13-7055-45d0-a274-3b4c1be3d19d",
   "metadata": {},
   "outputs": [
    {
     "name": "stdout",
     "output_type": "stream",
     "text": [
      "True\n"
     ]
    }
   ],
   "source": [
    "text1 = \"12345\"\n",
    "print(text1.isdigit())  "
   ]
  },
  {
   "cell_type": "code",
   "execution_count": 87,
   "id": "5570b761-9f75-4930-b7a3-5acea6a63266",
   "metadata": {},
   "outputs": [
    {
     "name": "stdout",
     "output_type": "stream",
     "text": [
      "False\n"
     ]
    }
   ],
   "source": [
    "text2 = \"123abc\"\n",
    "print(text2.isdigit())"
   ]
  },
  {
   "cell_type": "markdown",
   "id": "0de2010d-941b-4526-8678-710f5c257942",
   "metadata": {},
   "source": [
    "# join\n",
    "*The join() function is used to return a concatenated string. "
   ]
  },
  {
   "cell_type": "code",
   "execution_count": 92,
   "id": "19b86650-d631-4950-bedc-e4c8c9cce313",
   "metadata": {},
   "outputs": [
    {
     "name": "stdout",
     "output_type": "stream",
     "text": [
      "hello world\n"
     ]
    }
   ],
   "source": [
    "words1 = [\"hello\", \"world\"]\n",
    "print(\" \".join(words1))  "
   ]
  },
  {
   "cell_type": "code",
   "execution_count": 90,
   "id": "12de6201-8922-46a5-ab5c-eb383511b942",
   "metadata": {},
   "outputs": [
    {
     "name": "stdout",
     "output_type": "stream",
     "text": [
      "python-is-fun\n"
     ]
    }
   ],
   "source": [
    "words2 = [\"python\", \"is\", \"fun\"]\n",
    "print(\"-\".join(words2))"
   ]
  },
  {
   "cell_type": "code",
   "execution_count": 102,
   "id": "f3d9e201-1070-439c-ba16-00d9fa04a1c1",
   "metadata": {},
   "outputs": [
    {
     "name": "stdout",
     "output_type": "stream",
     "text": [
      "class-room\n"
     ]
    }
   ],
   "source": [
    "words3 = [\"class\",\"room\"]\n",
    "print(\"-\".join(words3))"
   ]
  },
  {
   "cell_type": "markdown",
   "id": "25dc5a1c-8d5a-4382-83f8-4935c4f029c1",
   "metadata": {},
   "source": [
    "# split\n",
    "*The split() function is used to split a string using a specified separator. "
   ]
  },
  {
   "cell_type": "code",
   "execution_count": 114,
   "id": "3acfe17a-b2aa-4d81-816a-dc418be02aa1",
   "metadata": {},
   "outputs": [
    {
     "name": "stdout",
     "output_type": "stream",
     "text": [
      "['hello', 'world']\n"
     ]
    }
   ],
   "source": [
    "text1 = \"hello world\"\n",
    "print(text1.split())"
   ]
  },
  {
   "cell_type": "code",
   "execution_count": 116,
   "id": "c466780c-adaf-41b1-9c7f-0dd7953f446c",
   "metadata": {},
   "outputs": [
    {
     "name": "stdout",
     "output_type": "stream",
     "text": [
      "['Python', 'is', 'fun']\n"
     ]
    }
   ],
   "source": [
    "text2 = \"Python is fun\"\n",
    "print(text2.split())"
   ]
  },
  {
   "cell_type": "markdown",
   "id": "bd38a257-1860-4a5e-9f1c-4814fee7c648",
   "metadata": {},
   "source": [
    "# startswith\n",
    "*The startswith() function returns “True” when the string starts with the given substring, otherwise it returns ‘False.’ "
   ]
  },
  {
   "cell_type": "code",
   "execution_count": 121,
   "id": "732a2673-fda0-483f-901c-c3dac7957538",
   "metadata": {},
   "outputs": [
    {
     "name": "stdout",
     "output_type": "stream",
     "text": [
      "True\n"
     ]
    }
   ],
   "source": [
    "text1 = \"hello world\"\n",
    "print(text1.startswith(\"hello\"))"
   ]
  },
  {
   "cell_type": "code",
   "execution_count": 119,
   "id": "40b8f882-f833-4f76-90cf-d0fae7f88e98",
   "metadata": {},
   "outputs": [
    {
     "name": "stdout",
     "output_type": "stream",
     "text": [
      "False\n"
     ]
    }
   ],
   "source": [
    "text2 = \"Python programming\"\n",
    "print(text2.startswith(\"Java\"))"
   ]
  },
  {
   "cell_type": "markdown",
   "id": "847a8a3a-21f5-4f08-88f7-c27d3d018d05",
   "metadata": {},
   "source": [
    "# title"
   ]
  },
  {
   "cell_type": "code",
   "execution_count": 126,
   "id": "75564a12-3a41-42c6-b198-ee1700b37f7f",
   "metadata": {},
   "outputs": [
    {
     "name": "stdout",
     "output_type": "stream",
     "text": [
      "Hello World\n"
     ]
    }
   ],
   "source": [
    "text1 = \"hello world\"\n",
    "print(text1.title())"
   ]
  },
  {
   "cell_type": "code",
   "execution_count": 124,
   "id": "9d2db2d9-aa63-4b69-94c0-2f4fc5bf9341",
   "metadata": {},
   "outputs": [
    {
     "name": "stdout",
     "output_type": "stream",
     "text": [
      "Python Programming\n"
     ]
    }
   ],
   "source": [
    "text2 = \"python programming\"\n",
    "print(text2.title())\n"
   ]
  },
  {
   "cell_type": "markdown",
   "id": "1c211eb0-64eb-442c-8bf9-967f685e29b9",
   "metadata": {},
   "source": [
    "# expandtabs"
   ]
  },
  {
   "cell_type": "code",
   "execution_count": 133,
   "id": "eb936614-0b2a-4248-bf77-e6f9b0120867",
   "metadata": {},
   "outputs": [
    {
     "name": "stdout",
     "output_type": "stream",
     "text": [
      "Hello   World\n"
     ]
    }
   ],
   "source": [
    "text1 = \"Hello\\tWorld\"\n",
    "print(text1.expandtabs(4))"
   ]
  },
  {
   "cell_type": "code",
   "execution_count": 129,
   "id": "de7ffb1b-a4e5-4639-ad8c-7fcbbb67f9b0",
   "metadata": {},
   "outputs": [
    {
     "name": "stdout",
     "output_type": "stream",
     "text": [
      "Python  Programming\n"
     ]
    }
   ],
   "source": [
    "text2 = \"Python\\tProgramming\"\n",
    "print(text2.expandtabs(2))\n"
   ]
  },
  {
   "cell_type": "markdown",
   "id": "4dfa2a8c-a3bd-4922-8ffd-965d3ea7a588",
   "metadata": {},
   "source": [
    "# swapcase"
   ]
  },
  {
   "cell_type": "code",
   "execution_count": 136,
   "id": "adabc68a-ef2b-4d22-8605-6d72a46e8a45",
   "metadata": {},
   "outputs": [
    {
     "name": "stdout",
     "output_type": "stream",
     "text": [
      "hELLO wORLD\n"
     ]
    }
   ],
   "source": [
    "text1 = \"Hello World\"\n",
    "print(text1.swapcase()) "
   ]
  },
  {
   "cell_type": "code",
   "execution_count": 138,
   "id": "95a2e70d-1a36-46f2-b7c4-f6606194d134",
   "metadata": {},
   "outputs": [
    {
     "name": "stdout",
     "output_type": "stream",
     "text": [
      "pYTHON pROGRAMMING\n"
     ]
    }
   ],
   "source": [
    "text2 = \"Python Programming\"\n",
    "print(text2.swapcase())"
   ]
  },
  {
   "cell_type": "markdown",
   "id": "47a2122c-04e0-407d-96aa-cda1d9d8ce51",
   "metadata": {},
   "source": [
    "# isspace\n",
    "*The isspace() function returns ‘True’ when there are all whitespace characters in a given string, otherwise it returns ‘False.’ "
   ]
  },
  {
   "cell_type": "code",
   "execution_count": 143,
   "id": "d18b6669-b6d9-44cc-b714-cdca4e55927d",
   "metadata": {},
   "outputs": [
    {
     "name": "stdout",
     "output_type": "stream",
     "text": [
      "True\n"
     ]
    }
   ],
   "source": [
    "text1 = \"   \"\n",
    "print(text1.isspace())  "
   ]
  },
  {
   "cell_type": "code",
   "execution_count": 141,
   "id": "f9b3ede6-17bb-434c-a88f-6fb47950c9e0",
   "metadata": {},
   "outputs": [
    {
     "name": "stdout",
     "output_type": "stream",
     "text": [
      "False\n"
     ]
    }
   ],
   "source": [
    "text2 = \"hello world\"\n",
    "print(text2.isspace())"
   ]
  },
  {
   "cell_type": "code",
   "execution_count": null,
   "id": "efad4cb2-87b9-4baf-ae82-dae1c55ec8b7",
   "metadata": {},
   "outputs": [],
   "source": []
  }
 ],
 "metadata": {
  "kernelspec": {
   "display_name": "Python 3 (ipykernel)",
   "language": "python",
   "name": "python3"
  },
  "language_info": {
   "codemirror_mode": {
    "name": "ipython",
    "version": 3
   },
   "file_extension": ".py",
   "mimetype": "text/x-python",
   "name": "python",
   "nbconvert_exporter": "python",
   "pygments_lexer": "ipython3",
   "version": "3.12.4"
  }
 },
 "nbformat": 4,
 "nbformat_minor": 5
}
